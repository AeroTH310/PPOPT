{
 "cells": [
  {
   "cell_type": "markdown",
   "source": [
    "# Control Examples\n",
    "\n",
    "This page covers two examples from the book, [Multi-parametric Optimization and Control](https://www.wiley.com/en-us/Multi+parametric+Optimization+and+Control-p-9781119265184), to show how it is implimented in PPOPT."
   ],
   "metadata": {
    "collapsed": false
   }
  },
  {
   "cell_type": "code",
   "outputs": [],
   "source": [
    "\n",
    "from typing import Union\n",
    "from pickle import load, dump, HIGHEST_PROTOCOL\n",
    "\n",
    "import numpy as np\n",
    "from scipy.linalg import solve_discrete_are, block_diag\n",
    "\n",
    "from ppopt.mpqp_program import MPQP_Program\n",
    "from ppopt.mp_solvers.solve_mpqp import solve_mpqp, mpqp_algorithm"
   ],
   "metadata": {
    "collapsed": false
   }
  },
  {
   "attachments": {},
   "cell_type": "markdown",
   "metadata": {},
   "source": [
    "#### Define functions to help solve mpc problems"
   ]
  },
  {
   "cell_type": "code",
   "execution_count": 2,
   "metadata": {
    "ExecuteTime": {
     "end_time": "2024-01-29T19:39:35.552640600Z",
     "start_time": "2024-01-29T19:39:35.545636700Z"
    }
   },
   "outputs": [],
   "source": [
    "def make_LQR_MPC_QP(\n",
    "        stat_mat: np.ndarray, ctrl_mat: np.ndarray, ricc_wgt: np.ndarray,\n",
    "        stat_wgt: np.ndarray, ctrl_wgt: np.ndarray, num_step: int,\n",
    "        all_t_input_cmat: np.ndarray, all_t_input_cvec: np.ndarray,\n",
    "        initl_state_cmat: np.ndarray, initl_state_cvec: np.ndarray,\n",
    "        all_t_state_cmat: Union[np.ndarray, None]=None,\n",
    "        all_t_state_cvec: Union[np.ndarray, None]=None,\n",
    "        final_state_cmat: Union[np.ndarray, None]=None,\n",
    "        final_state_cvec: Union[np.ndarray, None]=None) \\\n",
    "    -> np.ndarray:\n",
    "\n",
    "    if all_t_state_cmat is None or all_t_state_cvec is None:\n",
    "        all_t_state_cmat = np.empty((0, stat_mat.shape[0]), float)\n",
    "        all_t_state_cvec = np.empty((0,), float)\n",
    "    if final_state_cmat is None or final_state_cvec is None:\n",
    "        final_state_cmat = np.empty((0, stat_mat.shape[0]), float)\n",
    "        final_state_cvec = np.empty((0,), float)\n",
    "\n",
    "    Bk = np.zeros((ctrl_mat.shape[0], ctrl_mat.shape[1]*num_step), float)\n",
    "\n",
    "    num_inpt = all_t_input_cvec.size\n",
    "\n",
    "    alts_off = 0\n",
    "    inpt_off = alts_off + all_t_state_cvec.size*num_step\n",
    "    cnst_off = inpt_off + all_t_input_cvec.size*num_step\n",
    "    G = np.zeros((cnst_off + final_state_cvec.size, ctrl_mat.shape[1]*num_step), float)\n",
    "    S = np.zeros((cnst_off + final_state_cvec.size, stat_mat.shape[1]), float)\n",
    "\n",
    "    Ak = stat_mat\n",
    "    cycslice = np.r_[-ctrl_mat.shape[1]:(ctrl_mat.shape[1]*num_step + -ctrl_mat.shape[1])]\n",
    "    Bk[:,cycslice[:ctrl_mat.shape[1]]] = ctrl_mat\n",
    "\n",
    "    H = Bk[:,cycslice].T@stat_wgt@Bk[:,cycslice]\n",
    "    Z = Bk[:,cycslice].T@(stat_wgt + stat_wgt.T)@Ak\n",
    "    M = Ak.T@stat_wgt@Ak\n",
    "\n",
    "    G[:all_t_state_cvec.size,:] = all_t_state_cmat@Bk[:,cycslice]\n",
    "\n",
    "    S[:all_t_state_cvec.size,:] = -all_t_state_cmat@Ak\n",
    "\n",
    "    for indx in range(1, num_step - 1, 1):\n",
    "\n",
    "        Ak = stat_mat@Ak\n",
    "        indy = -(indx + 1)\n",
    "        cycslice = np.r_[indy*ctrl_mat.shape[1]:(indy*ctrl_mat.shape[1] + ctrl_mat.shape[1]*num_step)]\n",
    "        Bk[:,cycslice[:ctrl_mat.shape[1]]] = stat_mat@Bk[:,cycslice[ctrl_mat.shape[1]:2*ctrl_mat.shape[1]]]\n",
    "\n",
    "        H += Bk[:,cycslice].T@stat_wgt@Bk[:,cycslice]\n",
    "        Z += Bk[:,cycslice].T@(stat_wgt + stat_wgt.T)@Ak\n",
    "        M += Ak.T@stat_wgt@Ak\n",
    "\n",
    "        G[indx*all_t_state_cvec.size:(indx + 1)*all_t_state_cvec.size,:] \\\n",
    "            = all_t_state_cmat@Bk[:,cycslice]\n",
    "\n",
    "        S[indx*all_t_state_cvec.size:(indx + 1)*all_t_state_cvec.size,:] \\\n",
    "            = -all_t_state_cmat@Ak\n",
    "\n",
    "    Ak = stat_mat@Ak\n",
    "    Bk[:,:ctrl_mat.shape[1]] = stat_mat@Bk[:,ctrl_mat.shape[1]:2*ctrl_mat.shape[1]]\n",
    "\n",
    "    H += Bk.T@ricc_wgt@Bk\n",
    "    H += block_diag(*((ctrl_wgt,)*num_step))\n",
    "    Z += Bk.T@(ricc_wgt + ricc_wgt.T)@Ak\n",
    "    M += Ak.T@ricc_wgt@Ak\n",
    "\n",
    "    G[(inpt_off - all_t_state_cvec.size):inpt_off,:] = all_t_state_cmat@Bk\n",
    "    G[inpt_off:cnst_off,:] = block_diag(*((all_t_input_cmat,)*num_step))\n",
    "    G[cnst_off:] = final_state_cmat@Bk\n",
    "\n",
    "    S[(inpt_off - all_t_state_cvec.size):inpt_off,:] = -all_t_state_cmat@Ak\n",
    "    S[inpt_off:cnst_off,:] = np.zeros((all_t_input_cvec.size*num_step, stat_mat.shape[1]), float)\n",
    "    S[cnst_off:] = -final_state_cmat@Ak\n",
    "\n",
    "    W = np.block([np.tile(all_t_state_cvec, (num_step,)),\n",
    "        np.tile(all_t_input_cvec, (num_step,)), final_state_cvec])[:,np.newaxis]\n",
    "\n",
    "    return H, Z, M, G, W, S, initl_state_cmat, initl_state_cvec[:,np.newaxis]"
   ]
  },
  {
   "attachments": {},
   "cell_type": "markdown",
   "metadata": {},
   "source": [
    "# Example 10.4.1\n",
    "\n",
    "The next cells will set up the example problem solution and discuss the results."
   ]
  },
  {
   "cell_type": "code",
   "execution_count": 18,
   "metadata": {
    "ExecuteTime": {
     "end_time": "2024-01-29T19:46:14.446602700Z",
     "start_time": "2024-01-29T19:46:14.440603200Z"
    }
   },
   "outputs": [],
   "source": [
    "A = np.array([[ 1.0,  1.0], [ 0.0,  1.0]], float)\n",
    "B = np.array([[ 0.0], [ 1.0]], float)\n",
    "C = np.array([[ 1.0,  2.0]], float)\n",
    "D = np.array([[ 0.0]], float)\n",
    "\n",
    "Q = np.array([[ 1.0,  0.0], [ 0.0,  1.0]], float)\n",
    "R = np.array([[ 0.01]], float)\n",
    "\n",
    "x_lbound = np.array([-10.0, -10.0], float)\n",
    "x_ubound = np.array([ 10.0,  10.0], float)\n",
    "y_lbound = np.array([-25.0], float)\n",
    "y_ubound = np.array([ 25.0], float)\n",
    "u_lbound = np.array([-1.0], float)\n",
    "u_ubound = np.array([ 1.0], float)\n",
    "\n",
    "AT = np.array([\n",
    "    [ 0.6136,  1.6099],\n",
    "    [-0.3742, -0.3682],\n",
    "    [-0.6136, -1.6099],\n",
    "    [ 0.3742,  0.3682]], float)\n",
    "\n",
    "bT = np.array([1.0, 1.0, 1.0, 1.0], float)\n",
    "\n",
    "N = 10"
   ]
  },
  {
   "attachments": {},
   "cell_type": "markdown",
   "metadata": {},
   "source": [
    "Now compute the final time step error weight which makes this problem equivalent to a LQR problem."
   ]
  },
  {
   "cell_type": "code",
   "execution_count": 19,
   "metadata": {
    "ExecuteTime": {
     "end_time": "2024-01-29T19:46:28.165345800Z",
     "start_time": "2024-01-29T19:46:28.160344800Z"
    }
   },
   "outputs": [],
   "source": [
    "P = solve_discrete_are(A, B, Q, R)"
   ]
  },
  {
   "attachments": {},
   "cell_type": "markdown",
   "metadata": {},
   "source": [
    "Now call the helper function which will take the standard LQR problem and convert it into a MPC problem with N time steps, the desired input, state, and output constraints at all time steps, parameter constraints that match the state and output constraints, and the desired final time step constraints.  The resulting arrays define the quadratic program equivalent to the desired MPC problem."
   ]
  },
  {
   "cell_type": "code",
   "execution_count": 20,
   "metadata": {
    "ExecuteTime": {
     "end_time": "2024-01-29T19:46:31.318481200Z",
     "start_time": "2024-01-29T19:46:31.305482100Z"
    }
   },
   "outputs": [],
   "source": [
    "Hs, Zs, Ms, Gs, Ws, Ss, CRa, CRb = make_LQR_MPC_QP(A, B, P, Q, R, N,\n",
    "    np.block([[-np.identity(u_lbound.size, float)],\n",
    "              [ np.identity(u_ubound.size, float)]]),\n",
    "    np.block([-u_lbound,  u_ubound]),\n",
    "    np.block([[-np.identity(x_lbound.size, float)],\n",
    "              [ np.identity(x_ubound.size, float)], [-C], [ C]]),\n",
    "    np.block([-x_lbound,  x_ubound, -y_lbound,  y_ubound]),\n",
    "    np.block([[-np.identity(x_lbound.size, float)],\n",
    "              [ np.identity(x_ubound.size, float)], [-C], [ C]]),\n",
    "    np.block([-x_lbound,  x_ubound, -y_lbound,  y_ubound]),\n",
    "    AT, bT)"
   ]
  },
  {
   "attachments": {},
   "cell_type": "markdown",
   "metadata": {},
   "source": [
    "Convert the MPC quadratic program into a PPOPT mpQP object, process its constraints, execute the solution process, and save the result."
   ]
  },
  {
   "cell_type": "code",
   "execution_count": 21,
   "metadata": {
    "ExecuteTime": {
     "end_time": "2024-01-29T19:46:46.812701400Z",
     "start_time": "2024-01-29T19:46:37.482873900Z"
    }
   },
   "outputs": [
    {
     "name": "stdout",
     "output_type": "stream",
     "text": [
      "First region ()\n"
     ]
    }
   ],
   "source": [
    "prog = MPQP_Program(Gs, Ws, np.zeros((B.shape[1]*N,1), float), Zs, 2.0*Hs, CRa, CRb, Ss)\n",
    "\n",
    "prog.process_constraints()\n",
    "\n",
    "sltn = solve_mpqp(prog, mpqp_algorithm.graph_exp)\n",
    "\n",
    "with open('example_10.4.1.pickle', 'wb') as f:\n",
    "    dump(sltn, f, protocol=HIGHEST_PROTOCOL)"
   ]
  },
  {
   "attachments": {},
   "cell_type": "markdown",
   "metadata": {},
   "source": [
    "Now we load the result and print out the parts which can be found in the book."
   ]
  },
  {
   "cell_type": "code",
   "execution_count": 9,
   "metadata": {
    "ExecuteTime": {
     "end_time": "2024-01-29T19:44:51.164354700Z",
     "start_time": "2024-01-29T19:44:51.145356200Z"
    }
   },
   "outputs": [
    {
     "name": "stdout",
     "output_type": "stream",
     "text": [
      "number of critical regions: 115\n",
      "unconstrained region optimal control is:\n",
      "[[-6.13630439e-01 -1.60986502e+00]\n",
      " [ 3.74231737e-01  3.68169914e-01]\n",
      " [ 1.48311471e-01  1.49697787e-01]\n",
      " [ 5.64523527e-02  5.70160282e-02]\n",
      " [ 2.14655823e-02  2.16802718e-02]\n",
      " [ 8.16190762e-03  8.24354301e-03]\n",
      " [ 3.10341870e-03  3.13445913e-03]\n",
      " [ 1.18001917e-03  1.19182174e-03]\n",
      " [ 4.48681076e-04  4.53168790e-04]\n",
      " [ 1.70602913e-04  1.72309286e-04]]\n",
      "CR_12 (after finding the matching region) optimal law:\n",
      "[[-3.47473875e-01 -1.34703273e+00]\n",
      " [-2.77555756e-16 -3.33066907e-16]\n",
      " [ 2.77555756e-17  2.77555756e-17]\n",
      " [ 3.72196689e-01  3.70945110e-01]\n",
      " [-1.37691933e-02 -1.32765978e-02]\n",
      " [-6.77332204e-03 -6.57643056e-03]\n",
      " [-2.59066305e-03 -2.51570363e-03]\n",
      " [-9.85203866e-04 -9.56700952e-04]\n",
      " [-3.74607552e-04 -3.63769822e-04]\n",
      " [-1.42437802e-04 -1.38316950e-04]]\n",
      "[[-8.68467392e-01]\n",
      " [ 1.00000000e+00]\n",
      " [ 1.00000000e+00]\n",
      " [-1.36940915e+00]\n",
      " [ 1.40811879e-01]\n",
      " [ 6.00920451e-02]\n",
      " [ 2.29137928e-02]\n",
      " [ 8.71320021e-03]\n",
      " [ 3.31304411e-03]\n",
      " [ 1.25972552e-03]]\n",
      "CR_12 (after finding the matching region) region boundaries:\n",
      "[[-0.70929155 -0.70491524]\n",
      " [ 0.24977863  0.96830297]\n",
      " [-0.24977863 -0.96830297]\n",
      " [ 0.70829667  0.70591489]\n",
      " [ 1.          0.        ]]\n",
      "[[-3.02869095]\n",
      " [ 0.09455109]\n",
      " [ 1.34313182]\n",
      " [ 4.50902614]\n",
      " [10.        ]]\n",
      "CR_90 (after finding the matching region) optimal law:\n",
      "[[-2.53130850e-14 -2.46025422e-13]\n",
      " [ 5.99520433e-15  1.09690035e-13]\n",
      " [-2.48134846e-14 -1.02806652e-13]\n",
      " [ 7.03812009e-14  4.74252582e-13]\n",
      " [-5.43801115e-14 -3.28639893e-13]\n",
      " [ 4.17409163e-14  2.72887615e-13]\n",
      " [-3.85086928e-14 -2.85238846e-13]\n",
      " [ 3.38169163e-14  2.66262923e-13]\n",
      " [-1.01289962e-14 -8.80230676e-14]\n",
      " [-6.13630439e-01 -7.13253896e+00]]\n",
      "[[-1.        ]\n",
      " [-1.        ]\n",
      " [-1.        ]\n",
      " [-1.        ]\n",
      " [-1.        ]\n",
      " [-1.        ]\n",
      " [ 1.        ]\n",
      " [ 1.        ]\n",
      " [ 1.        ]\n",
      " [23.23850821]]\n",
      "CR_90 (after finding the matching region) region boundaries:\n",
      "[[-0.10443724 -0.99453148]\n",
      " [ 0.09371658  0.99559892]\n",
      " [ 0.31622777  0.9486833 ]]\n",
      "[[-3.30534456]\n",
      " [ 3.26737141]\n",
      " [ 4.11096096]]\n"
     ]
    }
   ],
   "source": [
    "with open('example_10.4.1.pickle', 'rb') as pickle_f:\n",
    "    sltn = load(pickle_f)\n",
    "\n",
    "print('number of critical regions: ' + str(len(sltn.critical_regions)))\n",
    "print('unconstrained region optimal control is:')\n",
    "print(sltn.critical_regions[0].A)\n",
    "print('CR_12 (after finding the matching region) optimal law:')\n",
    "print(sltn.critical_regions[12].A)\n",
    "print(sltn.critical_regions[12].b)\n",
    "print('CR_12 (after finding the matching region) region boundaries:')\n",
    "print(sltn.critical_regions[12].E)\n",
    "print(sltn.critical_regions[12].f)\n",
    "print('CR_90 (after finding the matching region) optimal law:')\n",
    "print(sltn.critical_regions[93].A)\n",
    "print(sltn.critical_regions[93].b)\n",
    "print('CR_90 (after finding the matching region) region boundaries:')\n",
    "print(sltn.critical_regions[93].E)\n",
    "print(sltn.critical_regions[93].f)"
   ]
  },
  {
   "attachments": {},
   "cell_type": "markdown",
   "metadata": {},
   "source": [
    "## Conclusions\n",
    "\n",
    "All matrices match exactly in Appendix A, but note that, in the book, they do not rescale the constraints as PPOPT does.  There is one minor exception: the book does not remove a couple of the redundant constraints from CRa and CRb (I verified that they are indeed redundant).  The critical regions in Tables 10.2 and 10.3 also match exactly (after locating the correct indices) and the number of critical regions match.  This code has been verified to the extent possible."
   ]
  },
  {
   "attachments": {},
   "cell_type": "markdown",
   "metadata": {},
   "source": [
    "# Example 11.2.1\n",
    "\n",
    "The next cells will execute the example problem solution and discuss the results.  First, set up the LQR problem statement.  The final time step error weight is the solution to the Riccati equation using the undisturbed system dynamics:"
   ]
  },
  {
   "cell_type": "code",
   "execution_count": 10,
   "metadata": {
    "ExecuteTime": {
     "end_time": "2024-01-29T19:44:52.987554800Z",
     "start_time": "2024-01-29T19:44:52.963551900Z"
    }
   },
   "outputs": [],
   "source": [
    "A = np.array([[ 1.0,  1.0], [ 0.0,  1.0]], float)\n",
    "B = np.array([[ 0.0], [ 1.0]], float)\n",
    "\n",
    "Q = np.array([[ 1.0,  0.0], [ 0.0,  1.0]], float)\n",
    "R = np.array([[ 0.01]], float)\n",
    "\n",
    "P = solve_discrete_are(A, B, Q, R)"
   ]
  },
  {
   "attachments": {},
   "cell_type": "markdown",
   "metadata": {},
   "source": [
    "Now set up the constraints as before, but note the new final state constraints.  Also set the number of steps."
   ]
  },
  {
   "cell_type": "code",
   "execution_count": 11,
   "metadata": {
    "ExecuteTime": {
     "end_time": "2024-01-29T19:44:54.017793700Z",
     "start_time": "2024-01-29T19:44:54.002100200Z"
    }
   },
   "outputs": [],
   "source": [
    "x_lbound = np.array([-10.0, -10.0], float)\n",
    "x_ubound = np.array([ 10.0,  10.0], float)\n",
    "y_lbound = np.array([-25.0], float)\n",
    "y_ubound = np.array([ 25.0], float)\n",
    "u_lbound = np.array([-1.0], float)\n",
    "u_ubound = np.array([ 1.0], float)\n",
    "\n",
    "AT = np.array([\n",
    "    [ 0.3358,  0.8809, -0.3336],\n",
    "    [-0.2553, -0.2512,  0.9336],\n",
    "    [-0.0001, -0.0001,  1.0000],\n",
    "    [ 0.0001,  0.0001, -1.0000],\n",
    "    [ 0.2553,  0.2512, -0.9336],\n",
    "    [-0.3358, -0.8809,  0.3336]], float)\n",
    "bT = np.array([ 0.5472, 0.6823, 0.6961, 0.6961, 0.6823, 0.5472], float)\n",
    "\n",
    "N = 10"
   ]
  },
  {
   "attachments": {},
   "cell_type": "markdown",
   "metadata": {},
   "source": [
    "Now define the disturbance parameters.  B_tilde is the disturbance gain matrix; the component of the next state due to the disturbance.\n",
    "\n",
    "One might naively suppose that one should handle disturbance bounds as with state bounds because they are now part of the state.  This is incorrect.  Constraints processing cannot handle trivial constraints with an all-zeros vector; the disturbance constraints would add these if we included the disturbance constraints with the state constraints because we will zero the disturbance row of the A matrix.\n",
    "\n",
    "Note that the influence of the disturbance on the system is fully accounted-for through its inclusion in matrix A; not including disturbance constraints would not alter the modeled impact of the disturbance.\n",
    "Note that the disturbance is, in fact, just part of the parameter vector for the optimization process; disturbance constraints should be involved in the parameter constraints only."
   ]
  },
  {
   "cell_type": "code",
   "execution_count": 12,
   "metadata": {
    "ExecuteTime": {
     "end_time": "2024-01-29T19:44:54.806606600Z",
     "start_time": "2024-01-29T19:44:54.801607Z"
    }
   },
   "outputs": [],
   "source": [
    "B_tilde = np.array([[-1.0], [ 1.0]], float)\n",
    "\n",
    "d_lbound = np.array([-0.5], float)\n",
    "d_ubound = np.array([ 0.5], float)"
   ]
  },
  {
   "attachments": {},
   "cell_type": "markdown",
   "metadata": {},
   "source": [
    "The state vector has the disturbance appended to it, so we must add the  linear relationship of the disturbance to the state update as a column in A.  The disturbance is an exogeneous state so the dynamics cannot update it, hence the row of the equation of motion corresponding to the disturbance is all zeros except for the disturbance column.  This column carries the disturbance through every time step (because it is constant).\n",
    "\n",
    "The input does not directly affect the disturbance, so the disturbance row of B is zero.\n",
    "\n",
    "The disturbance does not directly impact the output, so append a zero column to C."
   ]
  },
  {
   "cell_type": "code",
   "execution_count": 13,
   "metadata": {
    "ExecuteTime": {
     "end_time": "2024-01-29T19:44:55.932932300Z",
     "start_time": "2024-01-29T19:44:55.915705500Z"
    }
   },
   "outputs": [],
   "source": [
    "A = np.block([[A, B_tilde], [np.array([0.0, 0.0, 1.0], float)]])\n",
    "B = np.block([[B], [np.zeros((1, 1), float)]])\n",
    "C = np.block([[C, np.zeros((1, 1), float)]])"
   ]
  },
  {
   "attachments": {},
   "cell_type": "markdown",
   "metadata": {},
   "source": [
    "The state was augmented, so Q and P must also be augmented so that we can create the quadratic program; assign zero weight to the disturbance because it is a parameter only (the objective function term that includes it cannot be affected by the decision variables and therefore can only offset the objective value) and cannot alter the optimum via the objective function (its effect is only felt through the constraints)\n",
    "\n",
    "Note that the optimizer must now alter the decision variables directly to counter-act the effect of the constant disturbance in the equation of motion; the decision variables become functions of the disturbance to optimize the objective in the presence of the disturbance (like a feed-forward path if the setpoint were to be viewed as a disturbance)"
   ]
  },
  {
   "cell_type": "code",
   "execution_count": 14,
   "metadata": {
    "ExecuteTime": {
     "end_time": "2024-01-29T19:44:56.526573Z",
     "start_time": "2024-01-29T19:44:56.507568900Z"
    }
   },
   "outputs": [],
   "source": [
    "Q = np.block([[Q, np.zeros((2, 1), float)], [np.zeros((1, 3), float)]])\n",
    "P = np.block([[P, np.zeros((2, 1), float)], [np.zeros((1, 3), float)]])"
   ]
  },
  {
   "attachments": {},
   "cell_type": "markdown",
   "metadata": {},
   "source": [
    "Now call the helper function which will take the standard LQR problem and convert it into a MPC problem with N time steps, the desired input, state, and output constraints at all time steps, parameter constraints that match the state and output constraints, and the desired final time step constraints.  The resulting arrays define the quadratic program equivalent to the desired MPC problem.\n",
    "\n",
    "Unlike last time, we must now add some rows in the parameter constraints to enable us to bound the disturbance as desired.  We are also adjusting some other constraint matrices to account for the added state.  Remember that the disturbance bounds were not appended to the state bounds because this would create trivial constraints that PPOPT cannot handle."
   ]
  },
  {
   "cell_type": "code",
   "execution_count": 15,
   "metadata": {
    "ExecuteTime": {
     "end_time": "2024-01-29T19:44:57.429837Z",
     "start_time": "2024-01-29T19:44:57.424837300Z"
    }
   },
   "outputs": [],
   "source": [
    "I_Ax = np.identity(A.shape[0], float)[:2,:]\n",
    "\n",
    "Hs, Zs, Ms, Gs, Ws, Ss, CRa, CRb = make_LQR_MPC_QP(A, B, P, Q, R, N,\n",
    "    np.block([\n",
    "        [-np.identity(u_lbound.size, float)], [ np.identity(u_ubound.size, float)]]),\n",
    "    np.block([-u_lbound,  u_ubound]),\n",
    "    np.block([[-I_Ax], [ I_Ax], [-C], [ C],\n",
    "        [np.array([[  0.0,  0.0, -1.0]])], [np.array([[  0.0,  0.0,  1.0]])]]),\n",
    "    np.block([-x_lbound,  x_ubound, -y_lbound,  y_ubound, -d_lbound,  d_ubound]),\n",
    "    np.block([[-I_Ax], [ I_Ax], [-C], [ C]]),\n",
    "    np.block([-x_lbound,  x_ubound, -y_lbound,  y_ubound]),\n",
    "    AT, bT)"
   ]
  },
  {
   "attachments": {},
   "cell_type": "markdown",
   "metadata": {},
   "source": [
    "Convert the MPC quadratic program into a PPOPT mpQP object, process its constraints, execute the solution process, and save the result."
   ]
  },
  {
   "cell_type": "code",
   "execution_count": 16,
   "metadata": {
    "ExecuteTime": {
     "end_time": "2024-01-29T19:45:38.440301700Z",
     "start_time": "2024-01-29T19:45:04.660063900Z"
    }
   },
   "outputs": [
    {
     "name": "stdout",
     "output_type": "stream",
     "text": [
      "First region ()\n"
     ]
    }
   ],
   "source": [
    "prog = MPQP_Program(Gs, Ws, np.zeros((B.shape[1]*N, 1), float), Zs, 2.0*Hs, CRa, CRb, Ss)\n",
    "\n",
    "prog.process_constraints()\n",
    "\n",
    "sltn = solve_mpqp(prog, mpqp_algorithm.graph_exp)\n",
    "\n",
    "with open('example_11.2.1.pickle', 'wb') as f:\n",
    "    dump(sltn, f, protocol=HIGHEST_PROTOCOL)"
   ]
  },
  {
   "attachments": {},
   "cell_type": "markdown",
   "metadata": {},
   "source": [
    "Now we load the result and print out the parts which can be found in the book."
   ]
  },
  {
   "cell_type": "code",
   "execution_count": 17,
   "metadata": {
    "ExecuteTime": {
     "end_time": "2024-01-29T19:45:38.456301300Z",
     "start_time": "2024-01-29T19:45:38.442304100Z"
    }
   },
   "outputs": [
    {
     "name": "stdout",
     "output_type": "stream",
     "text": [
      "number of critical regions: 189\n",
      "CR_50 (after finding the matching region) optimal law:\n",
      "[[-1.27675648e-14 -3.79696274e-14 -4.85167462e-14]\n",
      " [ 1.44328993e-14  1.50435220e-14  3.61932706e-14]\n",
      " [-9.15933995e-16  1.10189635e-14 -6.66133815e-16]\n",
      " [-6.46011022e-15 -2.50424681e-14 -1.95399252e-14]\n",
      " [-9.12464548e-16 -8.90953977e-15 -1.53210777e-14]\n",
      " [-6.13630439e-01 -4.67801721e+00 -1.05287823e+01]\n",
      " [ 3.74231737e-01  2.23932860e+00  2.32224263e+00]\n",
      " [ 1.48311471e-01  8.91255143e-01  2.75760089e-01]\n",
      " [ 5.64523527e-02  3.39277791e-01 -6.62515977e-01]\n",
      " [ 2.14655823e-02  1.29008183e-01 -1.24223363e+00]]\n",
      "[[-1.        ]\n",
      " [ 1.        ]\n",
      " [ 1.        ]\n",
      " [ 1.        ]\n",
      " [ 1.        ]\n",
      " [-6.05685592]\n",
      " [ 1.85297322]\n",
      " [ 0.7457163 ]\n",
      " [ 0.28395279]\n",
      " [ 0.10797198]]\n",
      "CR_50 (after finding the matching region) region boundaries:\n",
      "[[-0.12544686 -0.64913686 -0.75025624]\n",
      " [ 0.11127434  0.61454225  0.7809967 ]\n",
      " [ 0.07507416  0.49725437  0.8643506 ]\n",
      " [-0.05318539 -0.4054593  -0.91256456]\n",
      " [ 1.          0.          0.        ]\n",
      " [ 0.          0.         -1.        ]]\n",
      "[[ 0.35114069]\n",
      " [-0.38824758]\n",
      " [-0.51625973]\n",
      " [ 0.61164116]\n",
      " [10.        ]\n",
      " [ 0.5       ]]\n"
     ]
    }
   ],
   "source": [
    "with open('example_11.2.1.pickle', 'rb') as pickle_f:\n",
    "    sltn = load(pickle_f)\n",
    "\n",
    "print('number of critical regions: ' + str(len(sltn.critical_regions)))\n",
    "guess = 48\n",
    "print('CR_50 (after finding the matching region) optimal law:')\n",
    "print(sltn.critical_regions[guess].A)\n",
    "print(sltn.critical_regions[guess].b)\n",
    "print('CR_50 (after finding the matching region) region boundaries:')\n",
    "print(sltn.critical_regions[guess].E)\n",
    "print(sltn.critical_regions[guess].f)"
   ]
  },
  {
   "attachments": {},
   "cell_type": "markdown",
   "metadata": {},
   "source": [
    "## Conclusions\n",
    "\n",
    "The non-disturbance portion of the solution exactly matches the previous example; this seems why the authors of the book decided not to include an appendix for it.  There is a critical region in my solution that exactly matches the one in Table 11.2, so this disturbance rejection code is verified to the extent possible."
   ]
  },
  {
   "cell_type": "code",
   "outputs": [],
   "source": [],
   "metadata": {
    "collapsed": false
   }
  }
 ],
 "metadata": {
  "kernelspec": {
   "display_name": "Python 3",
   "language": "python",
   "name": "python3"
  },
  "language_info": {
   "codemirror_mode": {
    "name": "ipython",
    "version": 3
   },
   "file_extension": ".py",
   "mimetype": "text/x-python",
   "name": "python",
   "nbconvert_exporter": "python",
   "pygments_lexer": "ipython3",
   "version": "3.8.10"
  },
  "orig_nbformat": 4
 },
 "nbformat": 4,
 "nbformat_minor": 2
}
